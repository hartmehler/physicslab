{
 "cells": [
  {
   "cell_type": "code",
   "execution_count": 3,
   "id": "d8eba4ef",
   "metadata": {},
   "outputs": [
    {
     "name": "stdout",
     "output_type": "stream",
     "text": [
      "C = 190.8\n"
     ]
    }
   ],
   "source": [
    "import numpy as np\n",
    "\n",
    "def fred(a,b):\n",
    "    c = (a+b)*12\n",
    "    return c\n",
    "a = 12\n",
    "b = 3.9\n",
    "c = fred(a,b)\n",
    "\n",
    "print(\"C =\",c)"
   ]
  },
  {
   "cell_type": "code",
   "execution_count": 6,
   "id": "9467917b",
   "metadata": {},
   "outputs": [
    {
     "name": "stdout",
     "output_type": "stream",
     "text": [
      "0.022360679774997897\n"
     ]
    }
   ],
   "source": [
    "def rule3(ea,eb):\n",
    "    EQ = np.sqrt(ea**2 + eb**2)\n",
    "    return EQ\n",
    "ex1 = 0.01\n",
    "ex2 = 0.02\n",
    "\n",
    "ex = rule3(ex1, ex2)\n",
    "print (ex)"
   ]
  },
  {
   "cell_type": "code",
   "execution_count": 8,
   "id": "f5d35889",
   "metadata": {
    "scrolled": true
   },
   "outputs": [
    {
     "name": "stdout",
     "output_type": "stream",
     "text": [
      "[ 3  6 36] [   9   36 1296]\n",
      "5.0 2.8674417556808756\n"
     ]
    }
   ],
   "source": [
    "x = np.array([1,2,12])\n",
    "\n",
    "y = x*3\n",
    "ysq = y**2\n",
    "print(y,ysq)\n",
    "\n",
    "avg_x = np.average(x)\n",
    "err_x = np.std(x)/np.sqrt(3)\n",
    "print(avg_x, err_x)"
   ]
  },
  {
   "cell_type": "code",
   "execution_count": 10,
   "id": "a87949eb",
   "metadata": {},
   "outputs": [
    {
     "name": "stdout",
     "output_type": "stream",
     "text": [
      "Error in Q is equal to: 6\n"
     ]
    }
   ],
   "source": [
    "def rule1(c,ea):\n",
    "    EQ = c*ea\n",
    "    return EQ\n",
    "c = 2\n",
    "ea = 3\n",
    "\n",
    "EQ = rule1(c,ea)\n",
    "print(\"Error in Q is equal to:\",EQ)\n"
   ]
  },
  {
   "cell_type": "code",
   "execution_count": 11,
   "id": "25df748b",
   "metadata": {},
   "outputs": [
    {
     "name": "stdout",
     "output_type": "stream",
     "text": [
      "Error in Q is equal to: 0.16\n"
     ]
    }
   ],
   "source": [
    "def rule2(c,m,A,EA):\n",
    "    EQ = c*m*(A**(m-1))*EA\n",
    "    return EQ\n",
    "c = 2\n",
    "m = 2\n",
    "A = 4\n",
    "EA= 0.01\n",
    "\n",
    "EQ = rule2(c,m,A,EA)\n",
    "print(\"Error in Q is equal to:\",EQ)\n"
   ]
  },
  {
   "cell_type": "code",
   "execution_count": 1,
   "id": "9a7fb1c7",
   "metadata": {},
   "outputs": [
    {
     "name": "stdout",
     "output_type": "stream",
     "text": [
      "Velocity is is equal to: 3.57 +/- 0.003937151235413138\n"
     ]
    }
   ],
   "source": [
    "import numpy as np\n",
    "def rule4(x_avg,ex_avg,y,ey,V):\n",
    "    EV = V * np.sqrt(((.5*ex_avg)/x_avg)**2 + ((-.5*ey)/y)**2)\n",
    "    return EV\n",
    "V = 3.57\n",
    "x = np.array([1.595,1.60,1.609,1.626,1.625,1.619,1.612,1.61,1.608,1.60])\n",
    "x_avg = np.average(x)\n",
    "ex_avg = np.std(x)/np.sqrt(10)\n",
    "y = 0.985\n",
    "ey = 0.001\n",
    "\n",
    "EV = rule4(x_avg,ex_avg,y,ey,V)\n",
    "print(\"Velocity is is equal to:\",V,\"+/-\",EV)\n"
   ]
  },
  {
   "cell_type": "markdown",
   "id": "c9dfe175",
   "metadata": {},
   "source": [
    "Writing out rule number 4 for the error in velocity for method 2 made me realize where i made mistakes. The values are very different however, this one is accurate compared to the one i initially calculated."
   ]
  },
  {
   "cell_type": "code",
   "execution_count": 7,
   "id": "65af6f06",
   "metadata": {},
   "outputs": [
    {
     "name": "stdout",
     "output_type": "stream",
     "text": [
      "The mean(average) for the data set was: 1.1166666666666667\n",
      "The error in the mean was: 0.073282810879294\n"
     ]
    }
   ],
   "source": [
    "import numpy as np\n",
    "x = np.array([1.1,1.3,1.4,0.9,0.95,1.05])\n",
    "x_avg = np.average(x)\n",
    "ex_avg = np.std(x)/np.sqrt(6)\n",
    "print(\"The mean(average) for the data set was:\",x_avg)\n",
    "print(\"The error in the mean was:\",ex_avg)"
   ]
  },
  {
   "cell_type": "markdown",
   "id": "6dfa5615",
   "metadata": {},
   "source": [
    "$$\n",
    "\\delta Q = \\sqrt{(\\delta A)^2 + (\\delta B)^2}\n",
    "$$"
   ]
  },
  {
   "cell_type": "markdown",
   "id": "b79edaca",
   "metadata": {},
   "source": [
    "$$\n",
    "\\delta v_i = v_i \\left(\\frac{\\delta \\bar{x}^2}{\\bar{x}} + \\frac{-\\delta \\bar{y}^2}{y}\\right)\n",
    "$$"
   ]
  },
  {
   "cell_type": "markdown",
   "id": "9b801c5b",
   "metadata": {},
   "source": [
    "\\usepackage\n"
   ]
  },
  {
   "cell_type": "code",
   "execution_count": null,
   "id": "aa4c6b1d",
   "metadata": {},
   "outputs": [],
   "source": []
  }
 ],
 "metadata": {
  "kernelspec": {
   "display_name": "Python 3 (ipykernel)",
   "language": "python",
   "name": "python3"
  },
  "language_info": {
   "codemirror_mode": {
    "name": "ipython",
    "version": 3
   },
   "file_extension": ".py",
   "mimetype": "text/x-python",
   "name": "python",
   "nbconvert_exporter": "python",
   "pygments_lexer": "ipython3",
   "version": "3.9.12"
  }
 },
 "nbformat": 4,
 "nbformat_minor": 5
}
